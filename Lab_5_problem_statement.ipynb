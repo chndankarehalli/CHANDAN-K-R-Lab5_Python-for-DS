{
  "cells": [
    {
      "cell_type": "markdown",
      "id": "57ce141c",
      "metadata": {
        "id": "57ce141c"
      },
      "source": [
        "# <font color=darkblue> Machine Learning model deployment with Flask framework on Heroku</font>"
      ]
    },
    {
      "cell_type": "markdown",
      "id": "ba1bdb38",
      "metadata": {
        "id": "ba1bdb38"
      },
      "source": [
        "## <font color=Blue>Used Cars Price Prediction Application</font>"
      ]
    },
    {
      "cell_type": "markdown",
      "id": "6492286d",
      "metadata": {
        "id": "6492286d"
      },
      "source": [
        "### Objective:\n",
        "1. To build a Machine learning regression model to predict the selling price of the used cars based on the different input features like fuel_type, kms_driven, type of transmission etc.\n",
        "2. Deploy the machine learning model with flask framework on heroku."
      ]
    },
    {
      "cell_type": "markdown",
      "id": "6fa174ee",
      "metadata": {
        "id": "6fa174ee"
      },
      "source": [
        "### Dataset Information:\n",
        "#### Dataset Source: https://www.kaggle.com/datasets/nehalbirla/vehicle-dataset-from-cardekho?select=CAR+DETAILS+FROM+CAR+DEKHO.csv\n",
        "This dataset contains information about used cars listed on www.cardekho.com\n",
        "- **Car_Name**: Name of the car\n",
        "- **Year**: Year of Purchase\n",
        "- **Selling Price (target)**: Selling price of the car in lakhs\n",
        "- **Present Price**: Present price of the car in lakhs\n",
        "- **Kms_Driven**: kilometers driven\n",
        "- **Fuel_Type**: Petrol/diesel/CNG\n",
        "- **Seller_Type**: Dealer or Indiviual\n",
        "- **Transmission**: Manual or Automatic\n",
        "- **Owner**: first, second or third owner\n"
      ]
    },
    {
      "cell_type": "markdown",
      "id": "e4059ba6",
      "metadata": {
        "id": "e4059ba6"
      },
      "source": [
        "### 1. Import required libraries"
      ]
    },
    {
      "cell_type": "code",
      "execution_count": 3,
      "id": "f6ee2764",
      "metadata": {
        "id": "f6ee2764"
      },
      "outputs": [],
      "source": [
        "import pandas as pd\n",
        "import numpy as np\n",
        "import seaborn as sns\n",
        "from datetime import date\n",
        "import matplotlib.pyplot as plt \n",
        "%matplotlib inline\n",
        "\n",
        "from sklearn.preprocessing import LabelEncoder\n",
        "from sklearn.preprocessing import StandardScaler\n",
        "from sklearn.model_selection import train_test_split\n",
        "from sklearn.metrics import r2_score\n",
        "from sklearn.ensemble import RandomForestRegressor\n",
        "\n",
        "import warnings\n",
        "warnings.filterwarnings('ignore')"
      ]
    },
    {
      "cell_type": "markdown",
      "id": "8c79a95e",
      "metadata": {
        "id": "8c79a95e"
      },
      "source": [
        "### 2. Load the dataset"
      ]
    },
    {
      "cell_type": "code",
      "execution_count": 1,
      "id": "9a1a9544",
      "metadata": {
        "id": "9a1a9544",
        "colab": {
          "base_uri": "https://localhost:8080/"
        },
        "outputId": "19d43fff-92ad-4b93-ccf2-872e183dd9fd"
      },
      "outputs": [
        {
          "output_type": "stream",
          "name": "stdout",
          "text": [
            "Mounted at /content/drive\n"
          ]
        }
      ],
      "source": [
        "from google.colab import drive\n",
        "drive.mount('/content/drive')"
      ]
    },
    {
      "cell_type": "code",
      "source": [
        "df = pd.read_csv('/content/drive/MyDrive/car+data.csv')\n",
        "df.head()"
      ],
      "metadata": {
        "colab": {
          "base_uri": "https://localhost:8080/",
          "height": 206
        },
        "id": "kNODD0TXLO0V",
        "outputId": "046171e7-9e51-4cc0-f930-dceff9b41dda"
      },
      "id": "kNODD0TXLO0V",
      "execution_count": 4,
      "outputs": [
        {
          "output_type": "execute_result",
          "data": {
            "text/plain": [
              "  Car_Name  Year  Selling_Price  Present_Price  Kms_Driven Fuel_Type  \\\n",
              "0     ritz  2014           3.35           5.59       27000    Petrol   \n",
              "1      sx4  2013           4.75           9.54       43000    Diesel   \n",
              "2     ciaz  2017           7.25           9.85        6900    Petrol   \n",
              "3  wagon r  2011           2.85           4.15        5200    Petrol   \n",
              "4    swift  2014           4.60           6.87       42450    Diesel   \n",
              "\n",
              "  Seller_Type Transmission  Owner  \n",
              "0      Dealer       Manual      0  \n",
              "1      Dealer       Manual      0  \n",
              "2      Dealer       Manual      0  \n",
              "3      Dealer       Manual      0  \n",
              "4      Dealer       Manual      0  "
            ],
            "text/html": [
              "\n",
              "  <div id=\"df-da6ac8b8-6859-44d9-9af3-41d77b54b297\">\n",
              "    <div class=\"colab-df-container\">\n",
              "      <div>\n",
              "<style scoped>\n",
              "    .dataframe tbody tr th:only-of-type {\n",
              "        vertical-align: middle;\n",
              "    }\n",
              "\n",
              "    .dataframe tbody tr th {\n",
              "        vertical-align: top;\n",
              "    }\n",
              "\n",
              "    .dataframe thead th {\n",
              "        text-align: right;\n",
              "    }\n",
              "</style>\n",
              "<table border=\"1\" class=\"dataframe\">\n",
              "  <thead>\n",
              "    <tr style=\"text-align: right;\">\n",
              "      <th></th>\n",
              "      <th>Car_Name</th>\n",
              "      <th>Year</th>\n",
              "      <th>Selling_Price</th>\n",
              "      <th>Present_Price</th>\n",
              "      <th>Kms_Driven</th>\n",
              "      <th>Fuel_Type</th>\n",
              "      <th>Seller_Type</th>\n",
              "      <th>Transmission</th>\n",
              "      <th>Owner</th>\n",
              "    </tr>\n",
              "  </thead>\n",
              "  <tbody>\n",
              "    <tr>\n",
              "      <th>0</th>\n",
              "      <td>ritz</td>\n",
              "      <td>2014</td>\n",
              "      <td>3.35</td>\n",
              "      <td>5.59</td>\n",
              "      <td>27000</td>\n",
              "      <td>Petrol</td>\n",
              "      <td>Dealer</td>\n",
              "      <td>Manual</td>\n",
              "      <td>0</td>\n",
              "    </tr>\n",
              "    <tr>\n",
              "      <th>1</th>\n",
              "      <td>sx4</td>\n",
              "      <td>2013</td>\n",
              "      <td>4.75</td>\n",
              "      <td>9.54</td>\n",
              "      <td>43000</td>\n",
              "      <td>Diesel</td>\n",
              "      <td>Dealer</td>\n",
              "      <td>Manual</td>\n",
              "      <td>0</td>\n",
              "    </tr>\n",
              "    <tr>\n",
              "      <th>2</th>\n",
              "      <td>ciaz</td>\n",
              "      <td>2017</td>\n",
              "      <td>7.25</td>\n",
              "      <td>9.85</td>\n",
              "      <td>6900</td>\n",
              "      <td>Petrol</td>\n",
              "      <td>Dealer</td>\n",
              "      <td>Manual</td>\n",
              "      <td>0</td>\n",
              "    </tr>\n",
              "    <tr>\n",
              "      <th>3</th>\n",
              "      <td>wagon r</td>\n",
              "      <td>2011</td>\n",
              "      <td>2.85</td>\n",
              "      <td>4.15</td>\n",
              "      <td>5200</td>\n",
              "      <td>Petrol</td>\n",
              "      <td>Dealer</td>\n",
              "      <td>Manual</td>\n",
              "      <td>0</td>\n",
              "    </tr>\n",
              "    <tr>\n",
              "      <th>4</th>\n",
              "      <td>swift</td>\n",
              "      <td>2014</td>\n",
              "      <td>4.60</td>\n",
              "      <td>6.87</td>\n",
              "      <td>42450</td>\n",
              "      <td>Diesel</td>\n",
              "      <td>Dealer</td>\n",
              "      <td>Manual</td>\n",
              "      <td>0</td>\n",
              "    </tr>\n",
              "  </tbody>\n",
              "</table>\n",
              "</div>\n",
              "      <button class=\"colab-df-convert\" onclick=\"convertToInteractive('df-da6ac8b8-6859-44d9-9af3-41d77b54b297')\"\n",
              "              title=\"Convert this dataframe to an interactive table.\"\n",
              "              style=\"display:none;\">\n",
              "        \n",
              "  <svg xmlns=\"http://www.w3.org/2000/svg\" height=\"24px\"viewBox=\"0 0 24 24\"\n",
              "       width=\"24px\">\n",
              "    <path d=\"M0 0h24v24H0V0z\" fill=\"none\"/>\n",
              "    <path d=\"M18.56 5.44l.94 2.06.94-2.06 2.06-.94-2.06-.94-.94-2.06-.94 2.06-2.06.94zm-11 1L8.5 8.5l.94-2.06 2.06-.94-2.06-.94L8.5 2.5l-.94 2.06-2.06.94zm10 10l.94 2.06.94-2.06 2.06-.94-2.06-.94-.94-2.06-.94 2.06-2.06.94z\"/><path d=\"M17.41 7.96l-1.37-1.37c-.4-.4-.92-.59-1.43-.59-.52 0-1.04.2-1.43.59L10.3 9.45l-7.72 7.72c-.78.78-.78 2.05 0 2.83L4 21.41c.39.39.9.59 1.41.59.51 0 1.02-.2 1.41-.59l7.78-7.78 2.81-2.81c.8-.78.8-2.07 0-2.86zM5.41 20L4 18.59l7.72-7.72 1.47 1.35L5.41 20z\"/>\n",
              "  </svg>\n",
              "      </button>\n",
              "      \n",
              "  <style>\n",
              "    .colab-df-container {\n",
              "      display:flex;\n",
              "      flex-wrap:wrap;\n",
              "      gap: 12px;\n",
              "    }\n",
              "\n",
              "    .colab-df-convert {\n",
              "      background-color: #E8F0FE;\n",
              "      border: none;\n",
              "      border-radius: 50%;\n",
              "      cursor: pointer;\n",
              "      display: none;\n",
              "      fill: #1967D2;\n",
              "      height: 32px;\n",
              "      padding: 0 0 0 0;\n",
              "      width: 32px;\n",
              "    }\n",
              "\n",
              "    .colab-df-convert:hover {\n",
              "      background-color: #E2EBFA;\n",
              "      box-shadow: 0px 1px 2px rgba(60, 64, 67, 0.3), 0px 1px 3px 1px rgba(60, 64, 67, 0.15);\n",
              "      fill: #174EA6;\n",
              "    }\n",
              "\n",
              "    [theme=dark] .colab-df-convert {\n",
              "      background-color: #3B4455;\n",
              "      fill: #D2E3FC;\n",
              "    }\n",
              "\n",
              "    [theme=dark] .colab-df-convert:hover {\n",
              "      background-color: #434B5C;\n",
              "      box-shadow: 0px 1px 3px 1px rgba(0, 0, 0, 0.15);\n",
              "      filter: drop-shadow(0px 1px 2px rgba(0, 0, 0, 0.3));\n",
              "      fill: #FFFFFF;\n",
              "    }\n",
              "  </style>\n",
              "\n",
              "      <script>\n",
              "        const buttonEl =\n",
              "          document.querySelector('#df-da6ac8b8-6859-44d9-9af3-41d77b54b297 button.colab-df-convert');\n",
              "        buttonEl.style.display =\n",
              "          google.colab.kernel.accessAllowed ? 'block' : 'none';\n",
              "\n",
              "        async function convertToInteractive(key) {\n",
              "          const element = document.querySelector('#df-da6ac8b8-6859-44d9-9af3-41d77b54b297');\n",
              "          const dataTable =\n",
              "            await google.colab.kernel.invokeFunction('convertToInteractive',\n",
              "                                                     [key], {});\n",
              "          if (!dataTable) return;\n",
              "\n",
              "          const docLinkHtml = 'Like what you see? Visit the ' +\n",
              "            '<a target=\"_blank\" href=https://colab.research.google.com/notebooks/data_table.ipynb>data table notebook</a>'\n",
              "            + ' to learn more about interactive tables.';\n",
              "          element.innerHTML = '';\n",
              "          dataTable['output_type'] = 'display_data';\n",
              "          await google.colab.output.renderOutput(dataTable, element);\n",
              "          const docLink = document.createElement('div');\n",
              "          docLink.innerHTML = docLinkHtml;\n",
              "          element.appendChild(docLink);\n",
              "        }\n",
              "      </script>\n",
              "    </div>\n",
              "  </div>\n",
              "  "
            ]
          },
          "metadata": {},
          "execution_count": 4
        }
      ]
    },
    {
      "cell_type": "markdown",
      "id": "13204bc7",
      "metadata": {
        "id": "13204bc7"
      },
      "source": [
        "### 3. Check the shape and basic information of the dataset."
      ]
    },
    {
      "cell_type": "code",
      "execution_count": 5,
      "id": "b18db9e1",
      "metadata": {
        "colab": {
          "base_uri": "https://localhost:8080/"
        },
        "id": "b18db9e1",
        "outputId": "58747089-ff99-4459-c7bb-843ec832f5fc"
      },
      "outputs": [
        {
          "output_type": "stream",
          "name": "stdout",
          "text": [
            "<class 'pandas.core.frame.DataFrame'>\n",
            "RangeIndex: 301 entries, 0 to 300\n",
            "Data columns (total 9 columns):\n",
            " #   Column         Non-Null Count  Dtype  \n",
            "---  ------         --------------  -----  \n",
            " 0   Car_Name       301 non-null    object \n",
            " 1   Year           301 non-null    int64  \n",
            " 2   Selling_Price  301 non-null    float64\n",
            " 3   Present_Price  301 non-null    float64\n",
            " 4   Kms_Driven     301 non-null    int64  \n",
            " 5   Fuel_Type      301 non-null    object \n",
            " 6   Seller_Type    301 non-null    object \n",
            " 7   Transmission   301 non-null    object \n",
            " 8   Owner          301 non-null    int64  \n",
            "dtypes: float64(2), int64(3), object(4)\n",
            "memory usage: 21.3+ KB\n"
          ]
        }
      ],
      "source": [
        "df.info()"
      ]
    },
    {
      "cell_type": "code",
      "execution_count": 6,
      "id": "dd100657",
      "metadata": {
        "id": "dd100657",
        "colab": {
          "base_uri": "https://localhost:8080/"
        },
        "outputId": "7ffef091-5a7e-4c4f-ff9c-0b8333d4a402"
      },
      "outputs": [
        {
          "output_type": "execute_result",
          "data": {
            "text/plain": [
              "(301, 9)"
            ]
          },
          "metadata": {},
          "execution_count": 6
        }
      ],
      "source": [
        "df.shape"
      ]
    },
    {
      "cell_type": "markdown",
      "id": "e69c8bc1",
      "metadata": {
        "id": "e69c8bc1"
      },
      "source": [
        "### 4. Check for the presence of the duplicate records in the dataset? If present drop them"
      ]
    },
    {
      "cell_type": "code",
      "execution_count": 7,
      "id": "d0456bdd",
      "metadata": {
        "id": "d0456bdd",
        "colab": {
          "base_uri": "https://localhost:8080/"
        },
        "outputId": "910a1ecd-2e35-4f64-e2ad-6cd1fad3745d"
      },
      "outputs": [
        {
          "output_type": "execute_result",
          "data": {
            "text/plain": [
              "2"
            ]
          },
          "metadata": {},
          "execution_count": 7
        }
      ],
      "source": [
        "len(df[df.duplicated()])"
      ]
    },
    {
      "cell_type": "code",
      "execution_count": 8,
      "id": "98962d0b",
      "metadata": {
        "colab": {
          "base_uri": "https://localhost:8080/"
        },
        "id": "98962d0b",
        "outputId": "4f8eb043-12c3-4108-a8eb-4bf058987079"
      },
      "outputs": [
        {
          "output_type": "execute_result",
          "data": {
            "text/plain": [
              "(299, 9)"
            ]
          },
          "metadata": {},
          "execution_count": 8
        }
      ],
      "source": [
        "df.drop_duplicates(inplace=True)\n",
        "df.shape"
      ]
    },
    {
      "cell_type": "markdown",
      "id": "ef965d82",
      "metadata": {
        "id": "ef965d82"
      },
      "source": [
        "### 5. Drop the columns which you think redundant for the analysis."
      ]
    },
    {
      "cell_type": "code",
      "execution_count": 9,
      "id": "48e26af1",
      "metadata": {
        "id": "48e26af1"
      },
      "outputs": [],
      "source": [
        "df = df.drop(columns = ['Car_Name'], axis=1)"
      ]
    },
    {
      "cell_type": "markdown",
      "id": "38e4a84d",
      "metadata": {
        "id": "38e4a84d"
      },
      "source": [
        "### 6. Extract a new feature called 'age_of_the_car' from the feature 'year' and drop the feature year"
      ]
    },
    {
      "cell_type": "code",
      "execution_count": 10,
      "id": "eff4fb15",
      "metadata": {
        "id": "eff4fb15",
        "colab": {
          "base_uri": "https://localhost:8080/",
          "height": 206
        },
        "outputId": "0cb01cb9-8e4e-4e51-bc93-f0c3be2ba9a6"
      },
      "outputs": [
        {
          "output_type": "execute_result",
          "data": {
            "text/plain": [
              "   Selling_Price  Present_Price  Kms_Driven Fuel_Type Seller_Type  \\\n",
              "0           3.35           5.59       27000    Petrol      Dealer   \n",
              "1           4.75           9.54       43000    Diesel      Dealer   \n",
              "2           7.25           9.85        6900    Petrol      Dealer   \n",
              "3           2.85           4.15        5200    Petrol      Dealer   \n",
              "4           4.60           6.87       42450    Diesel      Dealer   \n",
              "\n",
              "  Transmission  Owner  Age_of_the_car  \n",
              "0       Manual      0               8  \n",
              "1       Manual      0               9  \n",
              "2       Manual      0               5  \n",
              "3       Manual      0              11  \n",
              "4       Manual      0               8  "
            ],
            "text/html": [
              "\n",
              "  <div id=\"df-e405f3f3-6305-4c13-b6ed-4bb3c4676d9b\">\n",
              "    <div class=\"colab-df-container\">\n",
              "      <div>\n",
              "<style scoped>\n",
              "    .dataframe tbody tr th:only-of-type {\n",
              "        vertical-align: middle;\n",
              "    }\n",
              "\n",
              "    .dataframe tbody tr th {\n",
              "        vertical-align: top;\n",
              "    }\n",
              "\n",
              "    .dataframe thead th {\n",
              "        text-align: right;\n",
              "    }\n",
              "</style>\n",
              "<table border=\"1\" class=\"dataframe\">\n",
              "  <thead>\n",
              "    <tr style=\"text-align: right;\">\n",
              "      <th></th>\n",
              "      <th>Selling_Price</th>\n",
              "      <th>Present_Price</th>\n",
              "      <th>Kms_Driven</th>\n",
              "      <th>Fuel_Type</th>\n",
              "      <th>Seller_Type</th>\n",
              "      <th>Transmission</th>\n",
              "      <th>Owner</th>\n",
              "      <th>Age_of_the_car</th>\n",
              "    </tr>\n",
              "  </thead>\n",
              "  <tbody>\n",
              "    <tr>\n",
              "      <th>0</th>\n",
              "      <td>3.35</td>\n",
              "      <td>5.59</td>\n",
              "      <td>27000</td>\n",
              "      <td>Petrol</td>\n",
              "      <td>Dealer</td>\n",
              "      <td>Manual</td>\n",
              "      <td>0</td>\n",
              "      <td>8</td>\n",
              "    </tr>\n",
              "    <tr>\n",
              "      <th>1</th>\n",
              "      <td>4.75</td>\n",
              "      <td>9.54</td>\n",
              "      <td>43000</td>\n",
              "      <td>Diesel</td>\n",
              "      <td>Dealer</td>\n",
              "      <td>Manual</td>\n",
              "      <td>0</td>\n",
              "      <td>9</td>\n",
              "    </tr>\n",
              "    <tr>\n",
              "      <th>2</th>\n",
              "      <td>7.25</td>\n",
              "      <td>9.85</td>\n",
              "      <td>6900</td>\n",
              "      <td>Petrol</td>\n",
              "      <td>Dealer</td>\n",
              "      <td>Manual</td>\n",
              "      <td>0</td>\n",
              "      <td>5</td>\n",
              "    </tr>\n",
              "    <tr>\n",
              "      <th>3</th>\n",
              "      <td>2.85</td>\n",
              "      <td>4.15</td>\n",
              "      <td>5200</td>\n",
              "      <td>Petrol</td>\n",
              "      <td>Dealer</td>\n",
              "      <td>Manual</td>\n",
              "      <td>0</td>\n",
              "      <td>11</td>\n",
              "    </tr>\n",
              "    <tr>\n",
              "      <th>4</th>\n",
              "      <td>4.60</td>\n",
              "      <td>6.87</td>\n",
              "      <td>42450</td>\n",
              "      <td>Diesel</td>\n",
              "      <td>Dealer</td>\n",
              "      <td>Manual</td>\n",
              "      <td>0</td>\n",
              "      <td>8</td>\n",
              "    </tr>\n",
              "  </tbody>\n",
              "</table>\n",
              "</div>\n",
              "      <button class=\"colab-df-convert\" onclick=\"convertToInteractive('df-e405f3f3-6305-4c13-b6ed-4bb3c4676d9b')\"\n",
              "              title=\"Convert this dataframe to an interactive table.\"\n",
              "              style=\"display:none;\">\n",
              "        \n",
              "  <svg xmlns=\"http://www.w3.org/2000/svg\" height=\"24px\"viewBox=\"0 0 24 24\"\n",
              "       width=\"24px\">\n",
              "    <path d=\"M0 0h24v24H0V0z\" fill=\"none\"/>\n",
              "    <path d=\"M18.56 5.44l.94 2.06.94-2.06 2.06-.94-2.06-.94-.94-2.06-.94 2.06-2.06.94zm-11 1L8.5 8.5l.94-2.06 2.06-.94-2.06-.94L8.5 2.5l-.94 2.06-2.06.94zm10 10l.94 2.06.94-2.06 2.06-.94-2.06-.94-.94-2.06-.94 2.06-2.06.94z\"/><path d=\"M17.41 7.96l-1.37-1.37c-.4-.4-.92-.59-1.43-.59-.52 0-1.04.2-1.43.59L10.3 9.45l-7.72 7.72c-.78.78-.78 2.05 0 2.83L4 21.41c.39.39.9.59 1.41.59.51 0 1.02-.2 1.41-.59l7.78-7.78 2.81-2.81c.8-.78.8-2.07 0-2.86zM5.41 20L4 18.59l7.72-7.72 1.47 1.35L5.41 20z\"/>\n",
              "  </svg>\n",
              "      </button>\n",
              "      \n",
              "  <style>\n",
              "    .colab-df-container {\n",
              "      display:flex;\n",
              "      flex-wrap:wrap;\n",
              "      gap: 12px;\n",
              "    }\n",
              "\n",
              "    .colab-df-convert {\n",
              "      background-color: #E8F0FE;\n",
              "      border: none;\n",
              "      border-radius: 50%;\n",
              "      cursor: pointer;\n",
              "      display: none;\n",
              "      fill: #1967D2;\n",
              "      height: 32px;\n",
              "      padding: 0 0 0 0;\n",
              "      width: 32px;\n",
              "    }\n",
              "\n",
              "    .colab-df-convert:hover {\n",
              "      background-color: #E2EBFA;\n",
              "      box-shadow: 0px 1px 2px rgba(60, 64, 67, 0.3), 0px 1px 3px 1px rgba(60, 64, 67, 0.15);\n",
              "      fill: #174EA6;\n",
              "    }\n",
              "\n",
              "    [theme=dark] .colab-df-convert {\n",
              "      background-color: #3B4455;\n",
              "      fill: #D2E3FC;\n",
              "    }\n",
              "\n",
              "    [theme=dark] .colab-df-convert:hover {\n",
              "      background-color: #434B5C;\n",
              "      box-shadow: 0px 1px 3px 1px rgba(0, 0, 0, 0.15);\n",
              "      filter: drop-shadow(0px 1px 2px rgba(0, 0, 0, 0.3));\n",
              "      fill: #FFFFFF;\n",
              "    }\n",
              "  </style>\n",
              "\n",
              "      <script>\n",
              "        const buttonEl =\n",
              "          document.querySelector('#df-e405f3f3-6305-4c13-b6ed-4bb3c4676d9b button.colab-df-convert');\n",
              "        buttonEl.style.display =\n",
              "          google.colab.kernel.accessAllowed ? 'block' : 'none';\n",
              "\n",
              "        async function convertToInteractive(key) {\n",
              "          const element = document.querySelector('#df-e405f3f3-6305-4c13-b6ed-4bb3c4676d9b');\n",
              "          const dataTable =\n",
              "            await google.colab.kernel.invokeFunction('convertToInteractive',\n",
              "                                                     [key], {});\n",
              "          if (!dataTable) return;\n",
              "\n",
              "          const docLinkHtml = 'Like what you see? Visit the ' +\n",
              "            '<a target=\"_blank\" href=https://colab.research.google.com/notebooks/data_table.ipynb>data table notebook</a>'\n",
              "            + ' to learn more about interactive tables.';\n",
              "          element.innerHTML = '';\n",
              "          dataTable['output_type'] = 'display_data';\n",
              "          await google.colab.output.renderOutput(dataTable, element);\n",
              "          const docLink = document.createElement('div');\n",
              "          docLink.innerHTML = docLinkHtml;\n",
              "          element.appendChild(docLink);\n",
              "        }\n",
              "      </script>\n",
              "    </div>\n",
              "  </div>\n",
              "  "
            ]
          },
          "metadata": {},
          "execution_count": 10
        }
      ],
      "source": [
        "df['Age_of_the_car'] = date.today().year - df['Year']\n",
        "df.drop('Year', axis=1, inplace=True)\n",
        "df.head()"
      ]
    },
    {
      "cell_type": "markdown",
      "id": "b14100a4",
      "metadata": {
        "id": "b14100a4"
      },
      "source": [
        "### 7. Encode the categorical columns"
      ]
    },
    {
      "cell_type": "code",
      "execution_count": 11,
      "id": "14f8a038",
      "metadata": {
        "id": "14f8a038"
      },
      "outputs": [],
      "source": [
        "categories = ['Fuel_Type', 'Seller_Type', 'Transmission']\n",
        "lbl_encoder = LabelEncoder()\n",
        "for i in categories:\n",
        "    df[i] = df[[i]].apply(lbl_encoder.fit_transform)"
      ]
    },
    {
      "cell_type": "code",
      "execution_count": 12,
      "id": "2dab47a8",
      "metadata": {
        "colab": {
          "base_uri": "https://localhost:8080/",
          "height": 206
        },
        "id": "2dab47a8",
        "outputId": "cd8b6f4f-13bb-4f64-941c-2cdd5b578a01"
      },
      "outputs": [
        {
          "output_type": "execute_result",
          "data": {
            "text/plain": [
              "   Fuel_Type  Seller_Type  Transmission\n",
              "0          2            0             1\n",
              "1          1            0             1\n",
              "2          2            0             1\n",
              "3          2            0             1\n",
              "4          1            0             1"
            ],
            "text/html": [
              "\n",
              "  <div id=\"df-ec42a502-13b1-458a-a2c5-491ba58f60ba\">\n",
              "    <div class=\"colab-df-container\">\n",
              "      <div>\n",
              "<style scoped>\n",
              "    .dataframe tbody tr th:only-of-type {\n",
              "        vertical-align: middle;\n",
              "    }\n",
              "\n",
              "    .dataframe tbody tr th {\n",
              "        vertical-align: top;\n",
              "    }\n",
              "\n",
              "    .dataframe thead th {\n",
              "        text-align: right;\n",
              "    }\n",
              "</style>\n",
              "<table border=\"1\" class=\"dataframe\">\n",
              "  <thead>\n",
              "    <tr style=\"text-align: right;\">\n",
              "      <th></th>\n",
              "      <th>Fuel_Type</th>\n",
              "      <th>Seller_Type</th>\n",
              "      <th>Transmission</th>\n",
              "    </tr>\n",
              "  </thead>\n",
              "  <tbody>\n",
              "    <tr>\n",
              "      <th>0</th>\n",
              "      <td>2</td>\n",
              "      <td>0</td>\n",
              "      <td>1</td>\n",
              "    </tr>\n",
              "    <tr>\n",
              "      <th>1</th>\n",
              "      <td>1</td>\n",
              "      <td>0</td>\n",
              "      <td>1</td>\n",
              "    </tr>\n",
              "    <tr>\n",
              "      <th>2</th>\n",
              "      <td>2</td>\n",
              "      <td>0</td>\n",
              "      <td>1</td>\n",
              "    </tr>\n",
              "    <tr>\n",
              "      <th>3</th>\n",
              "      <td>2</td>\n",
              "      <td>0</td>\n",
              "      <td>1</td>\n",
              "    </tr>\n",
              "    <tr>\n",
              "      <th>4</th>\n",
              "      <td>1</td>\n",
              "      <td>0</td>\n",
              "      <td>1</td>\n",
              "    </tr>\n",
              "  </tbody>\n",
              "</table>\n",
              "</div>\n",
              "      <button class=\"colab-df-convert\" onclick=\"convertToInteractive('df-ec42a502-13b1-458a-a2c5-491ba58f60ba')\"\n",
              "              title=\"Convert this dataframe to an interactive table.\"\n",
              "              style=\"display:none;\">\n",
              "        \n",
              "  <svg xmlns=\"http://www.w3.org/2000/svg\" height=\"24px\"viewBox=\"0 0 24 24\"\n",
              "       width=\"24px\">\n",
              "    <path d=\"M0 0h24v24H0V0z\" fill=\"none\"/>\n",
              "    <path d=\"M18.56 5.44l.94 2.06.94-2.06 2.06-.94-2.06-.94-.94-2.06-.94 2.06-2.06.94zm-11 1L8.5 8.5l.94-2.06 2.06-.94-2.06-.94L8.5 2.5l-.94 2.06-2.06.94zm10 10l.94 2.06.94-2.06 2.06-.94-2.06-.94-.94-2.06-.94 2.06-2.06.94z\"/><path d=\"M17.41 7.96l-1.37-1.37c-.4-.4-.92-.59-1.43-.59-.52 0-1.04.2-1.43.59L10.3 9.45l-7.72 7.72c-.78.78-.78 2.05 0 2.83L4 21.41c.39.39.9.59 1.41.59.51 0 1.02-.2 1.41-.59l7.78-7.78 2.81-2.81c.8-.78.8-2.07 0-2.86zM5.41 20L4 18.59l7.72-7.72 1.47 1.35L5.41 20z\"/>\n",
              "  </svg>\n",
              "      </button>\n",
              "      \n",
              "  <style>\n",
              "    .colab-df-container {\n",
              "      display:flex;\n",
              "      flex-wrap:wrap;\n",
              "      gap: 12px;\n",
              "    }\n",
              "\n",
              "    .colab-df-convert {\n",
              "      background-color: #E8F0FE;\n",
              "      border: none;\n",
              "      border-radius: 50%;\n",
              "      cursor: pointer;\n",
              "      display: none;\n",
              "      fill: #1967D2;\n",
              "      height: 32px;\n",
              "      padding: 0 0 0 0;\n",
              "      width: 32px;\n",
              "    }\n",
              "\n",
              "    .colab-df-convert:hover {\n",
              "      background-color: #E2EBFA;\n",
              "      box-shadow: 0px 1px 2px rgba(60, 64, 67, 0.3), 0px 1px 3px 1px rgba(60, 64, 67, 0.15);\n",
              "      fill: #174EA6;\n",
              "    }\n",
              "\n",
              "    [theme=dark] .colab-df-convert {\n",
              "      background-color: #3B4455;\n",
              "      fill: #D2E3FC;\n",
              "    }\n",
              "\n",
              "    [theme=dark] .colab-df-convert:hover {\n",
              "      background-color: #434B5C;\n",
              "      box-shadow: 0px 1px 3px 1px rgba(0, 0, 0, 0.15);\n",
              "      filter: drop-shadow(0px 1px 2px rgba(0, 0, 0, 0.3));\n",
              "      fill: #FFFFFF;\n",
              "    }\n",
              "  </style>\n",
              "\n",
              "      <script>\n",
              "        const buttonEl =\n",
              "          document.querySelector('#df-ec42a502-13b1-458a-a2c5-491ba58f60ba button.colab-df-convert');\n",
              "        buttonEl.style.display =\n",
              "          google.colab.kernel.accessAllowed ? 'block' : 'none';\n",
              "\n",
              "        async function convertToInteractive(key) {\n",
              "          const element = document.querySelector('#df-ec42a502-13b1-458a-a2c5-491ba58f60ba');\n",
              "          const dataTable =\n",
              "            await google.colab.kernel.invokeFunction('convertToInteractive',\n",
              "                                                     [key], {});\n",
              "          if (!dataTable) return;\n",
              "\n",
              "          const docLinkHtml = 'Like what you see? Visit the ' +\n",
              "            '<a target=\"_blank\" href=https://colab.research.google.com/notebooks/data_table.ipynb>data table notebook</a>'\n",
              "            + ' to learn more about interactive tables.';\n",
              "          element.innerHTML = '';\n",
              "          dataTable['output_type'] = 'display_data';\n",
              "          await google.colab.output.renderOutput(dataTable, element);\n",
              "          const docLink = document.createElement('div');\n",
              "          docLink.innerHTML = docLinkHtml;\n",
              "          element.appendChild(docLink);\n",
              "        }\n",
              "      </script>\n",
              "    </div>\n",
              "  </div>\n",
              "  "
            ]
          },
          "metadata": {},
          "execution_count": 12
        }
      ],
      "source": [
        "df[['Fuel_Type', 'Seller_Type', 'Transmission']].head()"
      ]
    },
    {
      "cell_type": "markdown",
      "id": "0cf17c9e",
      "metadata": {
        "id": "0cf17c9e"
      },
      "source": [
        "### 8. Separate the target and independent features."
      ]
    },
    {
      "cell_type": "code",
      "execution_count": 13,
      "id": "2000d472",
      "metadata": {
        "id": "2000d472"
      },
      "outputs": [],
      "source": [
        "X = df.drop('Selling_Price',axis=1)\n",
        "y = df['Selling_Price']"
      ]
    },
    {
      "cell_type": "markdown",
      "id": "a7962944",
      "metadata": {
        "id": "a7962944"
      },
      "source": [
        "### 9. Split the data into train and test."
      ]
    },
    {
      "cell_type": "code",
      "execution_count": 14,
      "id": "b8ee4942",
      "metadata": {
        "id": "b8ee4942",
        "colab": {
          "base_uri": "https://localhost:8080/"
        },
        "outputId": "cf99d84a-1094-4e0b-9091-866e4f76c837"
      },
      "outputs": [
        {
          "output_type": "stream",
          "name": "stdout",
          "text": [
            "(209, 7) (90, 7)\n",
            "(209,) (90,)\n"
          ]
        }
      ],
      "source": [
        "X_train,X_test,y_train,y_test = train_test_split(X,y,test_size=0.3,random_state=0)\n",
        "\n",
        "print(X_train.shape,X_test.shape)\n",
        "print(y_train.shape,y_test.shape)"
      ]
    },
    {
      "cell_type": "markdown",
      "id": "0bebd320",
      "metadata": {
        "id": "0bebd320"
      },
      "source": [
        "### 10. Build a Random forest Regressor model and check the r2-score for train and test."
      ]
    },
    {
      "cell_type": "code",
      "execution_count": 15,
      "id": "22e9ba62",
      "metadata": {
        "id": "22e9ba62",
        "colab": {
          "base_uri": "https://localhost:8080/"
        },
        "outputId": "37513e68-e070-4b87-ab40-79c078fbd2cd"
      },
      "outputs": [
        {
          "output_type": "execute_result",
          "data": {
            "text/plain": [
              "RandomForestRegressor(n_estimators=500, random_state=100)"
            ]
          },
          "metadata": {},
          "execution_count": 15
        }
      ],
      "source": [
        "rf = RandomForestRegressor(n_estimators = 500, random_state=100)\n",
        "rf.fit(X_train,y_train)"
      ]
    },
    {
      "cell_type": "code",
      "execution_count": 16,
      "id": "daa94b96",
      "metadata": {
        "colab": {
          "base_uri": "https://localhost:8080/"
        },
        "id": "daa94b96",
        "outputId": "82fee428-e162-4a5f-e270-d2a21db549e6"
      },
      "outputs": [
        {
          "output_type": "stream",
          "name": "stdout",
          "text": [
            "R2 Score: 0.9003668284599349\n"
          ]
        }
      ],
      "source": [
        "predicted_train = rf.predict(X_train)\n",
        "predicted_test = rf.predict(X_test)\n",
        "\n",
        "test_score = r2_score(y_test, predicted_test)\n",
        "\n",
        "print('R2 Score:',test_score)"
      ]
    },
    {
      "cell_type": "markdown",
      "id": "26e089c8",
      "metadata": {
        "id": "26e089c8"
      },
      "source": [
        "### 11. Create a pickle file with an extension as .pkl"
      ]
    },
    {
      "cell_type": "code",
      "execution_count": 17,
      "id": "41d6bb75",
      "metadata": {
        "id": "41d6bb75"
      },
      "outputs": [],
      "source": [
        "import pickle\n",
        "# Saving model to disk\n",
        "pickle.dump(rf, open('model.pkl','wb'))"
      ]
    },
    {
      "cell_type": "markdown",
      "id": "af654594",
      "metadata": {
        "id": "af654594"
      },
      "source": [
        "### 12. Create new folder/new project in visual studio/pycharm that should contain the \"model.pkl\" file *make sure you are using a virutal environment and install required packages.*"
      ]
    },
    {
      "cell_type": "markdown",
      "id": "c0b7bd95",
      "metadata": {
        "id": "c0b7bd95"
      },
      "source": [
        "### a) Create a basic HTML form for the frontend"
      ]
    },
    {
      "cell_type": "markdown",
      "id": "5a7a95db",
      "metadata": {
        "id": "5a7a95db"
      },
      "source": [
        "Create a file **index.html** in the templates folder and copy the following code."
      ]
    },
    {
      "cell_type": "raw",
      "id": "255c8a38",
      "metadata": {
        "id": "255c8a38"
      },
      "source": [
        "<!DOCTYPE html>\n",
        "<html lang=\"en\">\n",
        "\n",
        "<head>\n",
        "    <meta charset=\"UTF-8\">\n",
        "    <meta name=\"viewport\" content=\"width=device-width, initial-scale=1.0\">\n",
        "    <title>Used Car Selling Price Predictor App</title>\n",
        "</head>\n",
        "\n",
        "<body>\n",
        "\n",
        "    <div class=\"hero-image\">\n",
        "      <div class=\"hero-text\">\n",
        "\n",
        "        <h1 style=\"font-size:50px\">Used Car Price Predictor</h1>\n",
        "         <br><br><h3>{{ prediction_text }}<h3>\n",
        "      </div>\n",
        "    </div>\n",
        "\n",
        "     <style>\n",
        "\n",
        "        body, html {\n",
        "          height: 100%;\n",
        "          margin: 0;\n",
        "          font-family: Arial, Helvetica, sans-serif;\n",
        "        }\n",
        "\n",
        "        .hero-image {\n",
        "          background-image: linear-gradient(rgba(0, 0, 0, 0.5), rgba(0, 0, 0, 0.5)), url('/static/image.jpg');\n",
        "          height: 50%;\n",
        "          background-position: bottom;\n",
        "          background-repeat: no-repeat;\n",
        "          background-size: cover;\n",
        "          position: relative;\n",
        "        }\n",
        "\n",
        "        .hero-text {\n",
        "          text-align: center;\n",
        "          position: absolute;\n",
        "          top: 50%;\n",
        "          left: 50%;\n",
        "          transform: translate(-50%, -50%);\n",
        "          color: white;\n",
        "        }\n",
        "\n",
        "    </style>\n",
        "\n",
        "\n",
        "    <div style=\"color:\trgb(0, 0, 0)\">\n",
        "        <form action=\"{{ url_for('predict')}}\" method=\"post\">\n",
        "            <h2>Enter Car Details: </h2>\n",
        "            <h3>Age of the car(In years)</h3>\n",
        "            <input id=\"first\" name=\"Age_of_the_car\" type=\"number \">\n",
        "            <h3>Present Showroom Price(In lakhs)</h3><br><input id=\"second\" name=\"Present_Price\" required=\"required\">\n",
        "            <h3>Kilometers Driven</h3><input id=\"third\" name=\"Kms_Driven\" required=\"required\">\n",
        "            <h3>Owner Type (1/2/3)</h3><br><input id=\"fourth\" name=\"Owner\" required=\"required\">\n",
        "            <h3>Fuel type</h3><br><select name=\"Fuel_Type\" id=\"fuel\" required=\"required\">\n",
        "                <option value=\"0\">Petrol</option>\n",
        "                <option value=\"1\">Diesel</option>\n",
        "                <option value=\"2\">CNG</option>\n",
        "            </select>\n",
        "            <h3>Seller Type</h3><br><select name=\"Seller_Type\" id=\"resea\" required=\"required\">\n",
        "                <option value=\"0\">Dealer</option>\n",
        "                <option value=\"1\">Individual</option>\n",
        "            </select>\n",
        "            <h3>Transmission type</h3><br><select name=\"Transmission\" id=\"research\" required=\"required\">\n",
        "                <option value=\"0\">Manual Car</option>\n",
        "                <option value=\"1\">Automatic Car</option>\n",
        "            </select>\n",
        "            <br><br><button id=\"sub\" type=\"submit \">Predict Selling Price</button>\n",
        "            <br>\n",
        "\n",
        "\n",
        "        </form>\n",
        "\n",
        "    </div>\n",
        "\n",
        "    <style>\n",
        "\tbody {\n",
        "            background-color: 101, 10, 20;\n",
        "            text-align: center;\n",
        "            padding: 0px;\n",
        "\t    font-family: Helvetica;\n",
        "        }\n",
        "\n",
        "        #research {\n",
        "            font-size: 18px;\n",
        "            width: 200px;\n",
        "            height: 23px;\n",
        "            top: 23px;\n",
        "        }\n",
        "\n",
        "        #box {\n",
        "            border-radius: 60px;\n",
        "            border-color: 45px;\n",
        "            border-style: solid;\n",
        "            text-align: center;\n",
        "            background-color: white;\n",
        "            font-size: medium;\n",
        "            position: absolute;\n",
        "            width: 700px;\n",
        "            bottom: 9%;\n",
        "            height: 850px;\n",
        "            right: 30%;\n",
        "            padding: 0px;\n",
        "            margin: 0px;\n",
        "            font-size: 14px;\n",
        "        }\n",
        "\n",
        "        #fuel {\n",
        "            width: 83px;\n",
        "            height: 43px;\n",
        "            text-align: center;\n",
        "            border-radius: 14px;\n",
        "            font-size: 20px;\n",
        "        }\n",
        "\n",
        "        #fuel:hover {\n",
        "            background-color: white;\n",
        "        }\n",
        "\n",
        "        #research {\n",
        "            width: 150px;\n",
        "            height: 43px;\n",
        "            text-align: center;\n",
        "            border-radius: 14px;\n",
        "            font-size: 18px;\n",
        "        }\n",
        "\n",
        "        #research:hover {\n",
        "            background-color: white;\n",
        "        }\n",
        "\n",
        "        #resea {\n",
        "            width: 99px;\n",
        "            height: 43px;\n",
        "            text-align: center;\n",
        "            border-radius: 14px;\n",
        "            font-size: 18px;\n",
        "        }\n",
        "\n",
        "        #resea:hover {\n",
        "            background-color: white;\n",
        "        }\n",
        "\n",
        "        #sub {\n",
        "            background-color: Green;\n",
        "            font-family:'Helvetica' monospace;\n",
        "            font-weight: bold;\n",
        "            width: 180px;\n",
        "            height: 60px;\n",
        "            text-align: center;\n",
        "            border-radius: 20px;\n",
        "            font-size: 18px;\n",
        "            color: white;\n",
        "        }\n",
        "\n",
        "        #sub:hover {\n",
        "            background-color: white;\n",
        "            color: black;\n",
        "        }\n",
        "\n",
        "        #first {\n",
        "            border-radius: 14px;\n",
        "            height: 25px;\n",
        "            font-size: 20px;\n",
        "            text-align: center;\n",
        "        }\n",
        "\n",
        "        #second {\n",
        "            border-radius: 14px;\n",
        "            height: 25px;\n",
        "            font-size: 20px;\n",
        "            text-align: center;\n",
        "        }\n",
        "\n",
        "        #third {\n",
        "            border-radius: 14px;\n",
        "            height: 25px;\n",
        "            font-size: 20px;\n",
        "            text-align: center;\n",
        "        }\n",
        "\n",
        "        #fourth {\n",
        "            border-radius: 14px;\n",
        "            height: 25px;\n",
        "            font-size: 20px;\n",
        "            text-align: center;\n",
        "        }\n",
        "    </style>\n",
        "</body>\n",
        "\n",
        "</html>"
      ]
    },
    {
      "cell_type": "markdown",
      "id": "2844d781",
      "metadata": {
        "id": "2844d781"
      },
      "source": [
        "### b) Create app.py file and write the predict function"
      ]
    },
    {
      "cell_type": "raw",
      "id": "6f946a60",
      "metadata": {
        "id": "6f946a60"
      },
      "source": [
        "import numpy as np\n",
        "import sklearn\n",
        "from flask import Flask, request, render_template\n",
        "import pickle\n",
        "\n",
        "app = Flask(__name__) #Initialize the flask App\n",
        "model = pickle.load(open('model.pkl', 'rb')) # loading the trained model\n",
        "\n",
        "@app.route('/',methods=['GET']) # Homepage\n",
        "def home():\n",
        "    return render_template('index.html')\n",
        "\n",
        "@app.route('/predict',methods=['POST'])\n",
        "def predict():\n",
        "    if request.method == 'POST':\n",
        "      Present_Price  = float(request.form['Present_Price'])\n",
        "      Kms_Driven  = int(request.form['Kms_Driven'])\n",
        "      Owner = int(request.form['Owner'])\n",
        "      Age_of_the_car = int(request.form['Age_of_the_car'])\n",
        "      Fuel_Type = request.form['Fuel_Type']\n",
        "      Seller_Type = request.form['Seller_Type']\n",
        "      Transmission = request.form['Transmission']\n",
        "\n",
        "      prediction = model.predict([[Present_Price, Kms_Driven, Owner, Age_of_the_car, Fuel_Type, Seller_Type, Transmission]])\n",
        "      output = round(prediction[0], 2)\n",
        "      return render_template('index.html', prediction_text='You can sell your car for {} lakhs'.format(output))\n",
        "\n",
        "if __name__ == \"__main__\":\n",
        "    app.run(debug=True)"
      ]
    },
    {
      "cell_type": "markdown",
      "id": "028ed8de",
      "metadata": {
        "id": "028ed8de"
      },
      "source": [
        "### 13. Deploy your app on Heroku. (write commands for deployment)"
      ]
    },
    {
      "cell_type": "markdown",
      "id": "22ead763",
      "metadata": {
        "id": "22ead763"
      },
      "source": [
        "#### Follow the below steps to deploy your application on heroku\n",
        "- First We need login to heroku and create a heroku app.\n",
        "    - <font color=blue>**heroku login**</font> (then login to heroku with your the id and password).\n",
        "    \n",
        "    \n",
        "- Create a heroku app\n",
        "    - <font color=blue>**heroku create nameofyourapp**</font> (go back to heroku dashboard we can see a app created with given name)\n",
        "    \n",
        "    \n",
        "- Create a Procfile (Procfile is a mechanism for declaring what commands are run by your application’s dynos on the Heroku platform.)\n",
        "    - <font color=blue>**echo web: >Procfile**</font> (creates a procfile)\n",
        "    - `web: gunicorn  app:app`(paste this in the procfile)\n",
        "                         \n",
        "                  \n",
        "- Create a runtime.txt file (need to tell what type of python need to be used)\n",
        "   - `python-3.10.5` (pass your version of the python in the file)\n",
        "       \n",
        "       \n",
        "- Create a requirements.txt file\n",
        "   - <font color=blue>**pip freeze >requirements.txt**</font>\n",
        "       \n",
        "       \n",
        "- initialize a git repository <font color=blue>**git init**</font>\n",
        "\n",
        "\n",
        "- Push your code to git repository\n",
        "    - <font color=blue>**git add .**</font>\n",
        "    - <font color=blue>**git commit -m 'Intial Commit'**</font>\n",
        "    \n",
        "    \n",
        "- Push the code from your local repository's main branch to your heroku remote. \n",
        "    - <font color=blue>**heroku git:remote -a nameofyourapp**</font> (this will set git remote heroku)\n",
        "    - <font color=blue>**git push heroku master**</font>\n",
        "    "
      ]
    },
    {
      "cell_type": "markdown",
      "id": "80008b60",
      "metadata": {
        "id": "80008b60"
      },
      "source": [
        "### 14. Paste the URL of the heroku application below, and while submitting the solution submit this notebook along with the source code."
      ]
    },
    {
      "cell_type": "markdown",
      "id": "ec8c41e2",
      "metadata": {
        "id": "ec8c41e2"
      },
      "source": [
        "https://usedcarvaluepredictor.herokuapp.com/"
      ]
    },
    {
      "cell_type": "markdown",
      "id": "c5a533a5",
      "metadata": {
        "id": "c5a533a5"
      },
      "source": [
        "### Happy Learning :)"
      ]
    }
  ],
  "metadata": {
    "colab": {
      "collapsed_sections": [],
      "provenance": []
    },
    "kernelspec": {
      "display_name": "Python 3 (ipykernel)",
      "language": "python",
      "name": "python3"
    },
    "language_info": {
      "codemirror_mode": {
        "name": "ipython",
        "version": 3
      },
      "file_extension": ".py",
      "mimetype": "text/x-python",
      "name": "python",
      "nbconvert_exporter": "python",
      "pygments_lexer": "ipython3",
      "version": "3.9.7"
    }
  },
  "nbformat": 4,
  "nbformat_minor": 5
}